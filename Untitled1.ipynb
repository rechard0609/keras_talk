{
 "cells": [
  {
   "cell_type": "code",
   "execution_count": 1,
   "metadata": {},
   "outputs": [
    {
     "name": "stdout",
     "output_type": "stream",
     "text": [
      "scipy 1.4.1\n",
      "numpy 1.18.5\n",
      "matplotlib 3.3.0\n",
      "pandas 1.1.0\n",
      "sklearn 0.23.1\n",
      "pydot 1.4.1\n",
      "h5py 2.10.0\n",
      "theano 1.0.5\n",
      "tensorflow 2.3.0\n",
      "keras 2.4.3\n"
     ]
    }
   ],
   "source": [
    "import scipy\n",
    "import numpy\n",
    "import matplotlib\n",
    "import pandas\n",
    "import sklearn\n",
    "import pydot\n",
    "import h5py\n",
    "\n",
    "import theano\n",
    "import tensorflow\n",
    "import keras\n",
    "\n",
    "print('scipy ' + scipy.__version__)\n",
    "print('numpy ' + numpy.__version__)\n",
    "print('matplotlib ' + matplotlib.__version__)\n",
    "print('pandas ' + pandas.__version__)\n",
    "print('sklearn ' + sklearn.__version__)\n",
    "print('pydot ' + pydot.__version__)\n",
    "print('h5py ' + h5py.__version__)\n",
    "\n",
    "print('theano ' + theano.__version__)\n",
    "print('tensorflow ' + tensorflow.__version__)\n",
    "print('keras ' + keras.__version__)"
   ]
  },
  {
   "cell_type": "code",
   "execution_count": null,
   "metadata": {},
   "outputs": [],
   "source": []
  },
  {
   "cell_type": "code",
   "execution_count": 2,
   "metadata": {},
   "outputs": [
    {
     "name": "stdout",
     "output_type": "stream",
     "text": [
      "Downloading data from https://storage.googleapis.com/tensorflow/tf-keras-datasets/mnist.npz\n",
      "11493376/11490434 [==============================] - 1s 0us/step\n",
      "Epoch 1/5\n",
      "1875/1875 [==============================] - 1s 689us/step - loss: 0.6786 - accuracy: 0.8282\n",
      "Epoch 2/5\n",
      "1875/1875 [==============================] - 1s 669us/step - loss: 0.3418 - accuracy: 0.9037\n",
      "Epoch 3/5\n",
      "1875/1875 [==============================] - 1s 662us/step - loss: 0.2955 - accuracy: 0.9159\n",
      "Epoch 4/5\n",
      "1875/1875 [==============================] - 1s 681us/step - loss: 0.2665 - accuracy: 0.9242\n",
      "Epoch 5/5\n",
      "1875/1875 [==============================] - 1s 718us/step - loss: 0.2450 - accuracy: 0.9301\n",
      "313/313 [==============================] - 0s 624us/step - loss: 0.2304 - accuracy: 0.9326\n",
      "loss_and_metrics : [0.2303621619939804, 0.9326000213623047]\n"
     ]
    }
   ],
   "source": [
    "from keras.utils import np_utils\n",
    "from keras.datasets import mnist\n",
    "from keras.models import Sequential\n",
    "from keras.layers import Dense, Activation\n",
    "\n",
    "(X_train, Y_train), (X_test, Y_test) = mnist.load_data()\n",
    "X_train = X_train.reshape(60000, 784).astype('float32') / 255.0\n",
    "X_test = X_test.reshape(10000, 784).astype('float32') / 255.0\n",
    "Y_train = np_utils.to_categorical(Y_train)\n",
    "Y_test = np_utils.to_categorical(Y_test)\n",
    "\n",
    "model = Sequential()\n",
    "model.add(Dense(units=64, input_dim=28*28, activation='relu'))\n",
    "model.add(Dense(units=10, activation='softmax'))\n",
    "model.compile(loss='categorical_crossentropy', optimizer='sgd', metrics=['accuracy'])\n",
    "model.fit(X_train, Y_train, epochs=5, batch_size=32)\n",
    "\n",
    "loss_and_metrics = model.evaluate(X_test, Y_test, batch_size=32)\n",
    "\n",
    "print('loss_and_metrics : ' + str(loss_and_metrics))"
   ]
  },
  {
   "cell_type": "code",
   "execution_count": null,
   "metadata": {},
   "outputs": [],
   "source": []
  },
  {
   "cell_type": "code",
   "execution_count": 3,
   "metadata": {},
   "outputs": [
    {
     "data": {
      "image/svg+xml": [
       "<svg xmlns=\"http://www.w3.org/2000/svg\" xmlns:xlink=\"http://www.w3.org/1999/xlink\" width=\"373pt\" height=\"295pt\" viewBox=\"0.00 0.00 280.00 221.00\">\n",
       "<g id=\"graph0\" class=\"graph\" transform=\"scale(1.33 1.33) rotate(0) translate(4 217)\">\n",
       "<title>G</title>\n",
       "<polygon fill=\"white\" stroke=\"transparent\" points=\"-4,4 -4,-217 276,-217 276,4 -4,4\"/>\n",
       "<!-- 5399331936 -->\n",
       "<g id=\"node1\" class=\"node\">\n",
       "<title>5399331936</title>\n",
       "<polygon fill=\"none\" stroke=\"black\" points=\"0,-166.5 0,-212.5 272,-212.5 272,-166.5 0,-166.5\"/>\n",
       "<text text-anchor=\"middle\" x=\"74.5\" y=\"-185.8\" font-family=\"Times,serif\" font-size=\"14.00\">dense_input: InputLayer</text>\n",
       "<polyline fill=\"none\" stroke=\"black\" points=\"149,-166.5 149,-212.5 \"/>\n",
       "<text text-anchor=\"middle\" x=\"176.5\" y=\"-197.3\" font-family=\"Times,serif\" font-size=\"14.00\">input:</text>\n",
       "<polyline fill=\"none\" stroke=\"black\" points=\"149,-189.5 204,-189.5 \"/>\n",
       "<text text-anchor=\"middle\" x=\"176.5\" y=\"-174.3\" font-family=\"Times,serif\" font-size=\"14.00\">output:</text>\n",
       "<polyline fill=\"none\" stroke=\"black\" points=\"204,-166.5 204,-212.5 \"/>\n",
       "<text text-anchor=\"middle\" x=\"238\" y=\"-197.3\" font-family=\"Times,serif\" font-size=\"14.00\">[(?, 784)]</text>\n",
       "<polyline fill=\"none\" stroke=\"black\" points=\"204,-189.5 272,-189.5 \"/>\n",
       "<text text-anchor=\"middle\" x=\"238\" y=\"-174.3\" font-family=\"Times,serif\" font-size=\"14.00\">[(?, 784)]</text>\n",
       "</g>\n",
       "<!-- 5351389216 -->\n",
       "<g id=\"node2\" class=\"node\">\n",
       "<title>5351389216</title>\n",
       "<polygon fill=\"none\" stroke=\"black\" points=\"34.5,-83.5 34.5,-129.5 237.5,-129.5 237.5,-83.5 34.5,-83.5\"/>\n",
       "<text text-anchor=\"middle\" x=\"79\" y=\"-102.8\" font-family=\"Times,serif\" font-size=\"14.00\">dense: Dense</text>\n",
       "<polyline fill=\"none\" stroke=\"black\" points=\"123.5,-83.5 123.5,-129.5 \"/>\n",
       "<text text-anchor=\"middle\" x=\"151\" y=\"-114.3\" font-family=\"Times,serif\" font-size=\"14.00\">input:</text>\n",
       "<polyline fill=\"none\" stroke=\"black\" points=\"123.5,-106.5 178.5,-106.5 \"/>\n",
       "<text text-anchor=\"middle\" x=\"151\" y=\"-91.3\" font-family=\"Times,serif\" font-size=\"14.00\">output:</text>\n",
       "<polyline fill=\"none\" stroke=\"black\" points=\"178.5,-83.5 178.5,-129.5 \"/>\n",
       "<text text-anchor=\"middle\" x=\"208\" y=\"-114.3\" font-family=\"Times,serif\" font-size=\"14.00\">(?, 784)</text>\n",
       "<polyline fill=\"none\" stroke=\"black\" points=\"178.5,-106.5 237.5,-106.5 \"/>\n",
       "<text text-anchor=\"middle\" x=\"208\" y=\"-91.3\" font-family=\"Times,serif\" font-size=\"14.00\">(?, 64)</text>\n",
       "</g>\n",
       "<!-- 5399331936&#45;&gt;5351389216 -->\n",
       "<g id=\"edge1\" class=\"edge\">\n",
       "<title>5399331936-&gt;5351389216</title>\n",
       "<path fill=\"none\" stroke=\"black\" d=\"M136,-166.37C136,-158.15 136,-148.66 136,-139.73\"/>\n",
       "<polygon fill=\"black\" stroke=\"black\" points=\"139.5,-139.61 136,-129.61 132.5,-139.61 139.5,-139.61\"/>\n",
       "</g>\n",
       "<!-- 5399248608 -->\n",
       "<g id=\"node3\" class=\"node\">\n",
       "<title>5399248608</title>\n",
       "<polygon fill=\"none\" stroke=\"black\" points=\"31,-0.5 31,-46.5 241,-46.5 241,-0.5 31,-0.5\"/>\n",
       "<text text-anchor=\"middle\" x=\"82\" y=\"-19.8\" font-family=\"Times,serif\" font-size=\"14.00\">dense_1: Dense</text>\n",
       "<polyline fill=\"none\" stroke=\"black\" points=\"133,-0.5 133,-46.5 \"/>\n",
       "<text text-anchor=\"middle\" x=\"160.5\" y=\"-31.3\" font-family=\"Times,serif\" font-size=\"14.00\">input:</text>\n",
       "<polyline fill=\"none\" stroke=\"black\" points=\"133,-23.5 188,-23.5 \"/>\n",
       "<text text-anchor=\"middle\" x=\"160.5\" y=\"-8.3\" font-family=\"Times,serif\" font-size=\"14.00\">output:</text>\n",
       "<polyline fill=\"none\" stroke=\"black\" points=\"188,-0.5 188,-46.5 \"/>\n",
       "<text text-anchor=\"middle\" x=\"214.5\" y=\"-31.3\" font-family=\"Times,serif\" font-size=\"14.00\">(?, 64)</text>\n",
       "<polyline fill=\"none\" stroke=\"black\" points=\"188,-23.5 241,-23.5 \"/>\n",
       "<text text-anchor=\"middle\" x=\"214.5\" y=\"-8.3\" font-family=\"Times,serif\" font-size=\"14.00\">(?, 10)</text>\n",
       "</g>\n",
       "<!-- 5351389216&#45;&gt;5399248608 -->\n",
       "<g id=\"edge2\" class=\"edge\">\n",
       "<title>5351389216-&gt;5399248608</title>\n",
       "<path fill=\"none\" stroke=\"black\" d=\"M136,-83.37C136,-75.15 136,-65.66 136,-56.73\"/>\n",
       "<polygon fill=\"black\" stroke=\"black\" points=\"139.5,-56.61 136,-46.61 132.5,-56.61 139.5,-56.61\"/>\n",
       "</g>\n",
       "</g>\n",
       "</svg>"
      ],
      "text/plain": [
       "<IPython.core.display.SVG object>"
      ]
     },
     "execution_count": 3,
     "metadata": {},
     "output_type": "execute_result"
    }
   ],
   "source": [
    "from IPython.display import SVG\n",
    "from keras.utils.vis_utils import model_to_dot\n",
    "\n",
    "%matplotlib inline\n",
    "\n",
    "SVG(model_to_dot(model, show_shapes=True).create(prog='dot', format='svg'))"
   ]
  },
  {
   "cell_type": "code",
   "execution_count": 4,
   "metadata": {},
   "outputs": [],
   "source": [
    "from keras.models import load_model\n",
    "\n",
    "model.save('mnist_mlp_model.h5')\n",
    "model = load_model('mnist_mlp_model.h5')"
   ]
  },
  {
   "cell_type": "code",
   "execution_count": null,
   "metadata": {},
   "outputs": [],
   "source": []
  }
 ],
 "metadata": {
  "kernelspec": {
   "display_name": "Python 3",
   "language": "python",
   "name": "python3"
  },
  "language_info": {
   "codemirror_mode": {
    "name": "ipython",
    "version": 3
   },
   "file_extension": ".py",
   "mimetype": "text/x-python",
   "name": "python",
   "nbconvert_exporter": "python",
   "pygments_lexer": "ipython3",
   "version": "3.8.3"
  }
 },
 "nbformat": 4,
 "nbformat_minor": 4
}
